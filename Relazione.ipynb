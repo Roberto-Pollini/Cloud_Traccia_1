{
 "cells": [
  {
   "cell_type": "markdown",
   "metadata": {},
   "source": [
    "# The twelve factors"
   ]
  },
  {
   "cell_type": "markdown",
   "metadata": {},
   "source": [
    "Elenchiamo i 12 fattori:\n",
    "   * __Codebase__: l’insieme di tutto il codice versionato è al link https://github.com/Roberto-Pollini/Cloud_Traccia_1\n",
    "   * __Dependencies__ (dipendenze, tutte le librerie necessarie all’app per poter funzionare): le dipendenze vengono definite nel file _requirements.txt_ ed eseguite tramite _Dockerfile_ \n",
    "   * __Config__: la configurazione del sistema è data a runtime tramite le variabili di ambiente da fornire col comando _docker run -e OPERATION=print_ \n",
    "   * __Backing servicies__: il bind mount del volume viene eseguito all'interno della cartella _/materiale/results/_. Qui verranno salvati i risultati dell'interrogazione qualora venissero richiesti, in caso contrario saranno visibili al momento dell'interrogazione e non sopravviveranno al container\n",
    "   * __Build, release, run__: il processo di build viene diretto dal seguente estratto di codice, che si prende cura di eliminare un'eventuale build precedente nel caso esista. Il principale task dell'estratto di cui sotto è quello di trasformare in formato .py il file main.ipynb nonché quello di creare l'immagine\n",
    "   \n",
    "    __Build__:\n",
    "    \n",
    "    _if os.getenv(\"PROD\") == None:_\n",
    "    \n",
    "        _command = \"jupyter nbconvert --to 'script' main.ipynb\"_\n",
    "        \n",
    "        _os.system(command)_\n",
    "        \n",
    "        _import subprocess_\n",
    "        \n",
    "        _container_ids = subprocess.check_output(['docker', 'ps', '-aq'], encoding='ascii')_\n",
    "        \n",
    "        _container_ids = container_ids.strip().split()_\n",
    "        \n",
    "        _if container_ids:_\n",
    "        \n",
    "            _subprocess.check_call(['docker','stop']+container_ids)_\n",
    "            \n",
    "            _subprocess.check_call(['docker','rm']+container_ids)_\n",
    "            \n",
    "        _os.system(command)_\n",
    "        \n",
    "        _command = \"docker build -t cloud_titanic .\"_\n",
    "        \n",
    "        _os.system(command)_\n",
    "\n",
    "    __Run__: di seguito il comando utile per il lancio di docker\n",
    "    \n",
    "    _docker run -e OPERATION=print -v \"${PWD}/:/home/materiale\" cloud_titanic -OPZIONE (-age, -class, -survived, -sex_class)_\n",
    "\n",
    "   * __Processes__: esegue l’app come uno o più processi senza stati, cioè l’app è stateless (stateless per poter scalare orizzontalmente) e può essere eseguita su ogni server\n",
    "   * __Port binding__: per la nostra app non è necessario questo specifico factor\n",
    "   * __Concurrency__: essendo previsto un single user con salvataggio/elaborazione dei dati in locale non vi sono problemi legati alla concorrenza; ad ogni modo, qualora il deployment venisse recato su di un server in cloud, si potrebbe agilmente scalare orizzontalmente dal momento che la struttura è stateless\n",
    "   * __Disposability__: lo startup e lo shutdown avvengono in modo repentino e vengono accettate  interruzioni in ogni momento.\n",
    "   * __Dev/Prod parity__: Dev e Prod sono uguali tra loro per il Dockerfile\n",
    "   * __Logs__: i logs vengono memorizzati nel file _filelog_, che si trova nella cartella _results_\n",
    "   * __Admin processes__: per la nostra app non è previsto alcun processo legato all'admin"
   ]
  },
  {
   "cell_type": "markdown",
   "metadata": {},
   "source": [
    "# Descrizione delle metriche\n",
    "\n",
    "* **-survived**: questa metrica calcola il numero dei sopravvissuti generando un'immagine con il grafico dei sopravissuti e dei deceduti.\n",
    "* **-class**: questa metrica calcola il numero dei passeggeri per classe di appartenenza.\n",
    "* **-age**: questa metrica calcola il numero dei passeggeri per fasce d'età.\n",
    "* **-sex_class**: questa metrica calcola la percentuale dei sopravvissuti per classe di appartenenza."
   ]
  },
  {
   "cell_type": "markdown",
   "metadata": {},
   "source": [
    "# Manuale d'utilizzo\n",
    "\n",
    "Leggere il file Readme."
   ]
  }
 ],
 "metadata": {
  "kernelspec": {
   "display_name": "Python 3",
   "language": "python",
   "name": "python3"
  },
  "language_info": {
   "codemirror_mode": {
    "name": "ipython",
    "version": 3
   },
   "file_extension": ".py",
   "mimetype": "text/x-python",
   "name": "python",
   "nbconvert_exporter": "python",
   "pygments_lexer": "ipython3",
   "version": "3.8.5"
  }
 },
 "nbformat": 4,
 "nbformat_minor": 4
}
